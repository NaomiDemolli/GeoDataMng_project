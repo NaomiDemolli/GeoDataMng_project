{
 "cells": [
  {
   "cell_type": "code",
   "execution_count": 1,
   "metadata": {},
   "outputs": [],
   "source": [
    "import psycopg2\n",
    "from psycopg2 import Error\n",
    "import json\n",
    "import gpxpy\n",
    "import gpxpy.gpx\n",
    "import time \n",
    "import datetime\n",
    "import pandas as pd"
   ]
  },
  {
   "cell_type": "markdown",
   "metadata": {},
   "source": [
    "### Connessione al DB"
   ]
  },
  {
   "cell_type": "code",
   "execution_count": 2,
   "metadata": {},
   "outputs": [],
   "source": [
    "def create_dbconnection():\n",
    "    with open('data.json') as json_file:\n",
    "        data = json.load(json_file)\n",
    "    try:\n",
    "        connection = psycopg2.connect(user=data['user'],\n",
    "                                      password=data['password'],\n",
    "                                      host=\"127.0.0.1\",\n",
    "                                      port=data['port'],\n",
    "                                      database=data['database'])\n",
    "        return connection\n",
    "\n",
    "    except (Exception, Error) as error:\n",
    "        print(\"Error while connecting to PostgreSQL\", error)"
   ]
  },
  {
   "cell_type": "code",
   "execution_count": 9,
   "metadata": {},
   "outputs": [],
   "source": [
    "connection = create_dbconnection()\n",
    "cursor = connection.cursor()"
   ]
  },
  {
   "cell_type": "markdown",
   "metadata": {},
   "source": [
    "### Generali"
   ]
  },
  {
   "cell_type": "markdown",
   "metadata": {},
   "source": [
    "Il sistema di coordinate è 4326 perchè non da problemi di visualizzazione in QGIS, ma ridà la ST_DISTANCE in gradi.\n",
    "\n",
    "Il sistema di coordinate 3857 è usato nelle operazioni: ST_DISTANCE viene ridata in metri invece che in gradi"
   ]
  },
  {
   "cell_type": "markdown",
   "metadata": {},
   "source": [
    "### Traiettorie personali gpx "
   ]
  },
  {
   "cell_type": "code",
   "execution_count": 4,
   "metadata": {},
   "outputs": [
    {
     "data": {
      "text/plain": [
       "['t1', 't2', 't3', 't4']"
      ]
     },
     "execution_count": 4,
     "metadata": {},
     "output_type": "execute_result"
    }
   ],
   "source": [
    "# nome della traiettoria\n",
    "table_gpx = ['t'+str(x) for x in range(1,5)]\n",
    "table_gpx"
   ]
  },
  {
   "cell_type": "code",
   "execution_count": 5,
   "metadata": {},
   "outputs": [],
   "source": [
    "# Create table TABLE_GPX\n",
    "for table in table_gpx:\n",
    "    query = \"\"\" DROP TABLE IF EXISTS \"\"\" + table + \"\"\" ;\n",
    "                CREATE TABLE \"\"\" + table + \"\"\" (\n",
    "                id serial, \n",
    "                LAT numeric, \n",
    "                LON numeric, \n",
    "                geom GEOMETRY(Point, 4326),\n",
    "                time TIMESTAMP);\"\"\"\n",
    "    cursor.execute(query)\n",
    "    connection.commit()"
   ]
  },
  {
   "cell_type": "code",
   "execution_count": 6,
   "metadata": {},
   "outputs": [],
   "source": [
    "for table in table_gpx:\n",
    "   \n",
    "    gpx_file = open('{}.gpx'.format(table) , 'r') \n",
    "    gpx = gpxpy.parse(gpx_file) \n",
    "\n",
    "    for track in gpx.tracks: \n",
    "        for segment in track.segments:\n",
    "            id_point = 0\n",
    "            for point in segment.points: \n",
    "                insert_query = \"\"\"INSERT INTO \"\"\" + table + \"\"\"(id,lat,lon,geom, time) \n",
    "                VALUES({},{},{},ST_GeomFromText('POINT({} {})', 4326),'{}');\n",
    "                \"\"\".format(id_point, point.latitude, point.longitude, point.longitude, point.latitude, \n",
    "                           (point.time).strftime(\"%Y-%m-%d %H:%M:%S\"))\n",
    "                \n",
    "                id_point += 1\n",
    "                cursor.execute(insert_query)\n",
    "                connection.commit()"
   ]
  },
  {
   "cell_type": "markdown",
   "metadata": {},
   "source": [
    "### Data preprocessing - Map matching\n",
    "Se si vuol fare una prova semplice si può creare ed utilizzare la tabella \"part\" per selezionare un sottoinsieme di punti su cui applicare il map matching (è un'operazione lunga, richiede un po' di tempo per applicarlo a tutti i punti della traccia)"
   ]
  },
  {
   "cell_type": "code",
   "execution_count": 10,
   "metadata": {},
   "outputs": [],
   "source": [
    "# PT_ROADS: contiene punto e strada ad esso più vicino, con la distanza tra di loro. \n",
    "for table in table_gpx: \n",
    "    query = \"\"\"\n",
    "        drop table if exists {0}_pt_roads;\n",
    "\n",
    "        create table {0}_pt_roads as\n",
    "        select distinct on (pid)pid, Mi_id, p_geom, Mi_geom, distance\n",
    "        from\n",
    "            (select p.id as pid, p.geom as p_geom, Mi.id as Mi_id, \n",
    "             Mi.geom as Mi_geom, \n",
    "             ST_distance(\n",
    "                 ST_transform(p.geom, 3857), \n",
    "                 ST_transform(ST_LineInterpolatePoint(Mi.geom, ST_LineLocatePoint(Mi.geom,p.geom)),3857)) as distance\n",
    "             from {0} as p, stradevicine as Mi) as point_road_couple\n",
    "        order by point_road_couple.pid, \n",
    "            st_distance(point_road_couple.p_geom, point_road_couple.Mi_geom);\n",
    "\n",
    "        drop table if exists {0}_mapmatching;\n",
    "\n",
    "        create table {0}_mapmatching as \n",
    "            (select pid, ST_LineInterpolatePoint(Mi_geom, ST_LineLocatePoint(Mi_geom,p_geom)), distance \n",
    "            from {0}_pt_roads\n",
    "            where distance < 15 )\n",
    "    \"\"\".format(table)\n",
    "\n",
    "# MAP_MATCHING: contiene pid, geom del punto proiettato sulla strada pià vicino SE la distanza è < ...\n",
    "\n",
    "    cursor.execute(query)\n",
    "    connection.commit()"
   ]
  },
  {
   "cell_type": "markdown",
   "metadata": {},
   "source": [
    "A questo punto in mapmatching ci ritroviamo ad avere solo i punti che sono stati modificati, dobbiamo creare una traiettoria unica con tutti i punti. \n",
    "\n",
    "Creiamo una tabella \"final_points\" dal left join di mapmatching e track_points, andiamo cioè a prendere tutti i punti di track_points e quelli che hanno lo stesso id nel mapmatching avranno delle colonne in più. "
   ]
  },
  {
   "cell_type": "code",
   "execution_count": null,
   "metadata": {},
   "outputs": [],
   "source": [
    "for table in table_gpx:\n",
    "    query = \"\"\" drop table if exists {0}_final_points; \n",
    "                create table {0}_final_points as (\n",
    "                        select * \n",
    "                        from {0}  \n",
    "                        left join  {0}_mapmatching\n",
    "                            on {0}.id = {0}_mapmatching.pid); \n",
    "\n",
    "                ALTER TABLE {0}_final_points\n",
    "                    ADD final_geom geometry;\n",
    "            \"\"\".format(table)\n",
    "    cursor.execute(query)\n",
    "    connection.commit()"
   ]
  },
  {
   "cell_type": "code",
   "execution_count": null,
   "metadata": {},
   "outputs": [],
   "source": [
    "for table in table_gpx:\n",
    "    # Selezione punti proiettati - con geom modificata espressa da st_lineinterpolarepoint\n",
    "    query = \"select st_lineinterpolatepoint, id from {0}_final_points where id = pid \".format(table)\n",
    "    cursor.execute(query)\n",
    "    risultati1 = cursor.fetchall()\n",
    "\n",
    "    # Selezione punti rimasti uguali - hanno pid nulla dal leftjoin\n",
    "    query = \"select geom, id from {0}_final_points where pid is null\".format(table)\n",
    "    cursor.execute(query)\n",
    "    risultati2 = cursor.fetchall()\n",
    "\n",
    "    risultati = risultati1 + risultati2 \n",
    "\n",
    "    for element in risultati: \n",
    "        query = \"UPDATE {0}_final_points set final_geom = '{1}' where id = {2}\".format(table,str(element[0]), str(element[-1]))\n",
    "        cursor.execute(query)\n",
    "        connection.commit()"
   ]
  },
  {
   "cell_type": "code",
   "execution_count": null,
   "metadata": {},
   "outputs": [],
   "source": [
    "for table in table_gpx:\n",
    "    query = \"\"\"alter table {0}_final_points\n",
    "        DROP COLUMN geom, DROP COLUMN pid,DROP COLUMN st_lineinterpolatepoint, DROP COLUMN distance, ADD time2 timestamp;\n",
    "        UPDATE {0}_final_points SET time2 = time;\n",
    "        alter table {0}_final_points DROP COLUMN time;   \n",
    "        alter table {0}_final_points RENAME COLUMN time2 TO time;\n",
    "        alter table {0}_final_points RENAME COLUMN final_geom to geom;\n",
    "        \"\"\".format(table)\n",
    "    cursor.execute(query)\n",
    "    connection.commit()"
   ]
  },
  {
   "cell_type": "markdown",
   "metadata": {},
   "source": [
    "### Creazione tabelle waypoint"
   ]
  },
  {
   "cell_type": "code",
   "execution_count": null,
   "metadata": {},
   "outputs": [],
   "source": [
    "for TABLE in table_gpx:\n",
    "    query = \"\"\" DROP TABLE IF EXISTS \"\"\" + TABLE +'_waypoint' + \"\"\" ;\n",
    "                CREATE TABLE \"\"\" + TABLE +'_waypoint' + \"\"\" (\n",
    "                id serial, \n",
    "                LAT numeric, \n",
    "                LON numeric, \n",
    "                geom GEOMETRY(Point, 4326),\n",
    "                time TIMESTAMP\n",
    "                );\"\"\"\n",
    "    cursor.execute(query)\n",
    "    connection.commit()\n",
    "\n",
    "\n",
    "    id_point = 0\n",
    "\n",
    "    gpx_file = open('{}.gpx'.format(TABLE) , 'r') \n",
    "    gpx = gpxpy.parse(gpx_file) \n",
    " \n",
    "    for point in gpx.waypoints: \n",
    "        insert_query = \"\"\"INSERT INTO \"\"\" + TABLE +'_waypoint' + \"\"\"(id,lat,lon,geom, time) \n",
    "                 VALUES({},{},{},ST_GeomFromText('POINT({} {})',4326),'{}');\n",
    "                \"\"\".format(id_point, point.latitude, point.longitude, point.longitude, point.latitude, \n",
    "                           (point.time).strftime(\"%Y-%m-%d %H:%M:%S\"))\n",
    "        id_point += 1\n",
    "        cursor.execute(insert_query)\n",
    "        connection.commit()"
   ]
  },
  {
   "cell_type": "markdown",
   "metadata": {},
   "source": [
    "### Stay point detection"
   ]
  },
  {
   "cell_type": "code",
   "execution_count": null,
   "metadata": {},
   "outputs": [],
   "source": [
    "def delta_dist(x, y): # X,Y geom\n",
    "    cur = connection.cursor()\n",
    "    cur.execute(\"select st_distance(ST_TRANSFORM('{}', 3857),ST_TRANSFORM('{}', 3857));\".format(str(x), str(y)))\n",
    "    dd = cur.fetchall()\n",
    "    return dd[0][0]\n",
    "\n",
    "def delta_time(x, y): # X,Y timestamp\n",
    "    cur = connection.cursor()\n",
    "    dt = y-x\n",
    "    return dt.total_seconds()\n",
    "\n",
    "def calc_centroide(listapunti, table = TABLE): # X,Y id dei punti\n",
    "    cur = connection.cursor()\n",
    "    listapunti = tuple(listapunti)\n",
    "    query = \"\"\" SELECT ST_CENTROID(st_union(t.geom)) as cent_point \n",
    "                FROM {} as t\n",
    "                WHERE t.id in {} \"\"\".format(TABLE, listapunti) \n",
    "    cur.execute(query)\n",
    "    centroide = cur.fetchall()\n",
    "    geom_cent = centroide[0][0]\n",
    "    return geom_cent"
   ]
  },
  {
   "cell_type": "code",
   "execution_count": null,
   "metadata": {},
   "outputs": [],
   "source": [
    "def staypoint(distThre, timeThre):\n",
    "    cur = connection.cursor()\n",
    "    cur.execute(\"select distinct * from {} order by id\".format(TABLE))\n",
    "    data = cur.fetchall()\n",
    "    \n",
    "    query = \"\"\" ALTER TABLE {0} DROP COLUMN IF EXISTS id_centroide;     \n",
    "                ALTER TABLE {0} ADD COLUMN id_centroide INTEGER \"\"\".format(TABLE)\n",
    "    cursor.execute(query)\n",
    "    connection.commit()\n",
    "    \n",
    "    i = 0\n",
    "    num_points = len(data)\n",
    "    id_centroide = 0\n",
    "    stay_points = []\n",
    "    \n",
    "    while i < len(data):\n",
    "        j = i+1\n",
    "        \n",
    "        while j < num_points:\n",
    "            \n",
    "            dist = delta_dist(data[i][3], data[j][3])\n",
    "    \n",
    "            if dist > distThre:\n",
    "                temp = delta_time(data[i][4], data[j][4])\n",
    "            \n",
    "                if temp > timeThre:\n",
    "                    lista_id = [i for i in range(i,j+1)]\n",
    "                    query = \"\"\" UPDATE {0} SET id_centroide = {1}\n",
    "                                WHERE id in {2}\"\"\".format(TABLE, id_centroide, tuple(lista_id))\n",
    "                    cursor.execute(query)\n",
    "                    connection.commit()\n",
    "                    geom_cent = calc_centroide(lista_id)\n",
    "                    time_inizio = data[i][4]\n",
    "                    time_fine = data[j][4]\n",
    "                    point = [id_centroide, geom_cent, temp, time_inizio, time_fine]\n",
    "                    stay_points.append(point)\n",
    "                    id_centroide += 1\n",
    "                    \n",
    "                break\n",
    "            j += 1\n",
    "        i = j\n",
    "        \n",
    " \n",
    "   \n",
    "    print('\\nSono stati identificati {} staypoints con sogliadist < {}m e sogliatime > {}s: \\n'.format(len(stay_points), distThre, timeThre)) \n",
    "    cur.execute(\"\"\" DROP TABLE if exists {2}_staypoints_{0}m_{1}s; \n",
    "                CREATE TABLE {2}_staypoints_{0}m_{1}s (id varchar, geom geometry, \n",
    "                deltat numeric, time_inizio timestamp, time_fine timestamp)\"\"\".format(distThre, timeThre, TRACCIA))\n",
    "    connection.commit()\n",
    "    \n",
    "    \n",
    "    for point in stay_points:\n",
    "        print('staypoint {}: intervallo {}'.format(point[0], point[2]/60))\n",
    "        cur.execute(\"\"\" INSERT INTO {0}_staypoints_{1}m_{2}s\n",
    "                    VALUES ({3}, '{4}', {5}, '{6}', '{7}')\n",
    "                    \"\"\".format(TRACCIA, distThre, timeThre, point[0], point[1], point[2], point[3], point[4]))\n",
    "        connection.commit()\n",
    "    print(\"END TRACCIA\")"
   ]
  },
  {
   "cell_type": "code",
   "execution_count": null,
   "metadata": {},
   "outputs": [],
   "source": [
    "metri = 50\n",
    "secondi = 60*3\n",
    "\n",
    "for t in table_gpx: \n",
    "    TRACCIA = t\n",
    "    TABLE = str(t) + \"_final_points\"\n",
    "    sp = staypoint(metri, secondi)"
   ]
  },
  {
   "cell_type": "markdown",
   "metadata": {},
   "source": [
    "### Risultati staypoint: \n",
    "- Detected waypoints\n",
    "- Distanza media tra waypoint e staypoint\n",
    "- tot wp / tot sp"
   ]
  },
  {
   "cell_type": "code",
   "execution_count": null,
   "metadata": {},
   "outputs": [],
   "source": [
    "total_wp = 0\n",
    "total_sp = 0\n",
    "total_detected = 0\n",
    "total_far_sp = 0\n",
    "for t in table_gpx:\n",
    "    TABLE_STAYPOINTS = t + '_staypoints_' + str(metri) + 'm_' + str(secondi) + 's'\n",
    "    TABLE_WAYPOINTS = t + \"_waypoint\"\n",
    "    \n",
    "    cursor.execute(\"\"\"ALTER TABLE {0} DROP COLUMN IF EXISTS detected_by_sp;\n",
    "                     ALTER TABLE {0} ADD COLUMN detected_by_sp INTEGER;\n",
    "                     \n",
    "                     ALTER TABLE {1} DROP COLUMN IF EXISTS near_wp;\n",
    "                     ALTER TABLE {1} ADD COLUMN near_wp INTEGER;\"\"\".format(TABLE_WAYPOINTS, TABLE_STAYPOINTS))\n",
    "    connection.commit() #aggiungiamo una colonna detected alle tabelle di waypoint\n",
    "    \n",
    "    #Selezioniamo wp vicini a sp\n",
    "    query = \"\"\"select wp.id as wpid, sp.id as spid, st_distance(st_transform(wp.geom, 3857),st_transform(sp.geom, 3857))\n",
    "                from {0} as wp, {1} as sp\n",
    "                where st_distance(\n",
    "                        st_transform(wp.geom, 3857),\n",
    "                        st_transform(sp.geom, 3857)\n",
    "                ) < 30\"\"\".format(TABLE_WAYPOINTS, TABLE_STAYPOINTS)\n",
    "    cursor.execute(query)\n",
    "    wp_vicini_sp = cursor.fetchall()\n",
    "    \n",
    "    for row in wp_vicini_sp: #Aggiorniamo la tabella di wp, indice ci dice se il punto è stato rilevato\n",
    "        cursor.execute(\"\"\" UPDATE {0} SET detected_by_sp = 1 WHERE {0}.id = '{1}'\"\"\".format(TABLE_WAYPOINTS, str(row[0])))\n",
    "        connection.commit()\n",
    "        cursor.execute(\"\"\" UPDATE {0} SET near_wp = 1 WHERE {0}.id = '{1}'\"\"\".format(TABLE_STAYPOINTS, row[1]))\n",
    "        connection.commit()\n",
    "    \n",
    "    cursor.execute(\"select count(detected_by_sp) from {}\".format(TABLE_WAYPOINTS))\n",
    "    track_det = cursor.fetchall()[0][0]\n",
    "    total_detected += track_det\n",
    "    \n",
    "    cursor.execute(\"select count(*) from {}\".format(TABLE_WAYPOINTS))\n",
    "    track_wp = cursor.fetchall()[0][0]\n",
    "    total_wp += track_wp\n",
    "    \n",
    "    cursor.execute(\"select count(*) from {}\".format(TABLE_STAYPOINTS))\n",
    "    track_sp = cursor.fetchall()[0][0]\n",
    "    total_sp += track_sp\n",
    "    \n",
    "    cursor.execute(\"select COUNT(*)-count(near_wp) from {}\".format(TABLE_STAYPOINTS))\n",
    "    track_far_sp = cursor.fetchall()[0][0]\n",
    "    total_far_sp += track_far_sp\n",
    "\n",
    "    print(t, \"detected_by_sp:\", round(track_det/track_wp, 2), \"perc sp lontani:\",round(track_far_sp/track_sp,2))"
   ]
  },
  {
   "cell_type": "code",
   "execution_count": null,
   "metadata": {
    "scrolled": true
   },
   "outputs": [],
   "source": [
    "print(\"Risultati di staypoint {}m, {}s: \".format(metri,secondi))\n",
    "print(\"Percentuale di WP rilevati: \", round(total_detected/total_wp,3))\n",
    "print(\"Percentuale di staypoint lontati da wp: \", round(total_far_sp/total_sp,3))\n"
   ]
  },
  {
   "cell_type": "markdown",
   "metadata": {},
   "source": [
    "### DBSCAN\n",
    "\n",
    "CLUS_INDEX:\n",
    "\n",
    "    if 0: noise \n",
    "\n",
    "    if > 0: appartenenza al cluster di id clus_index\n"
   ]
  },
  {
   "cell_type": "code",
   "execution_count": null,
   "metadata": {},
   "outputs": [],
   "source": [
    "def get_vicini(id_p, eps, tempo, deltat):\n",
    "    \n",
    "    if tempo:    \n",
    "        cursor.execute(\"\"\"  SELECT t2.id FROM {0}_final_points as t1, {0}_final_points as t2\n",
    "                        WHERE st_distance(st_transform(t1.geom, 3857), st_transform(t2.geom, 3857)) <= {1} and t1.id = '{2}' \n",
    "                        AND abs(extract(epoch from t2.time::timestamp - t1.time::timestamp )) <{3}\n",
    "                        \"\"\".format(TABLE, eps, str(id_p), deltat))\n",
    "    else:\n",
    "        cursor.execute(\"\"\" SELECT t2.id FROM {0}_final_points as t1, {0}_final_points as t2\n",
    "                        WHERE st_distance(st_transform(t1.geom, 3857), st_transform(t2.geom, 3857)) <= {1} \n",
    "                        AND t1.id = '{2}' \"\"\".format(TABLE, eps, id_p))\n",
    "    \n",
    "    data = cursor.fetchall()\n",
    "    vicini = []\n",
    "    for i in range(len(data)):\n",
    "        vicini.append(int(data[i][0]))\n",
    "        \n",
    "    return vicini\n",
    "    \n",
    "def espansione_cluster(p, vicinato, cluster_index, eps, minpts, labels, tempo, deltat):\n",
    "    seed = vicinato\n",
    "    for nodo in seed:\n",
    "        if labels[nodo] == -1 or labels[nodo] == 0: # non visitato o noise\n",
    "            labels[nodo] = cluster_index            \n",
    "            vicini_nodo = get_vicini(nodo, eps, tempo, deltat)\n",
    "            if len(vicini_nodo) >= minpts:\n",
    "                seed.extend(vicini_nodo)    "
   ]
  },
  {
   "cell_type": "code",
   "execution_count": null,
   "metadata": {},
   "outputs": [],
   "source": [
    "def DBSCAN(eps, minpts, tempo = False, deltat = 0):\n",
    "\n",
    "    cursor.execute(\"select count(*) from {}_final_points\".format(TABLE))\n",
    "    dataset_size = cursor.fetchone()[0]\n",
    "    \n",
    "    labels = [-1 for i in range(dataset_size+1)] # -1 è nodo non visitato\n",
    "    cluster_index = 1\n",
    "    \n",
    "    for i, lbl in enumerate(labels):\n",
    "        if lbl == -1:\n",
    "            vicinato = get_vicini(i, eps, tempo, deltat)\n",
    "            if len(vicinato) >= minpts:\n",
    "                labels[i] = cluster_index\n",
    "                espansione_cluster(i, vicinato, cluster_index, eps, minpts, labels, tempo, deltat)\n",
    "                cluster_index += 1 \n",
    "            else:\n",
    "                labels[i] = 0 # 0 nodo rumore\n",
    "    \n",
    "    new_column = 'clus_index_tempo' if tempo else 'clus_index'\n",
    "    cursor.execute(\"\"\" ALTER TABLE {0}_final_points DROP COLUMN IF EXISTS {1};     \n",
    "                    ALTER TABLE {0}_final_points ADD COLUMN {1} INTEGER \"\"\".format(TABLE, new_column))\n",
    "    connection.commit()\n",
    "    \n",
    "    for i in range(len(labels)):\n",
    "        cursor.execute(\"\"\" UPDATE {0}_final_points SET {1} = {2} \n",
    "                        WHERE {0}_final_points.id = '{3}'\"\"\".format(TABLE, new_column, labels[i], i))\n",
    "        connection.commit()\n",
    "        \n",
    "    print('Numero cluster: ' + str(cluster_index-1))\n"
   ]
  },
  {
   "cell_type": "code",
   "execution_count": null,
   "metadata": {
    "scrolled": true
   },
   "outputs": [],
   "source": [
    "PATH = 'D:/Unimi/Geospatial data mng/Progetto/immagini/'\n",
    "for t in table_gpx:\n",
    "    TABLE = t\n",
    "    DBSCAN(20, 5)\n",
    "    DBSCAN(20, 5, tempo = True, deltat = 60*5)\n",
    "    print('\\n')"
   ]
  },
  {
   "cell_type": "markdown",
   "metadata": {},
   "source": [
    "### Calcolo punti di sosta per DBSCAN"
   ]
  },
  {
   "cell_type": "code",
   "execution_count": null,
   "metadata": {},
   "outputs": [],
   "source": [
    "for TABLE in table_gpx:\n",
    "    cursor.execute(\"select distinct clus_index_tempo from {}_final_points\".format(TABLE))\n",
    "    data = cursor.fetchall()\n",
    "    \n",
    "    cursor.execute(\"\"\" DROP TABLE if exists {0}_DBSCAN_centroidi; \n",
    "                CREATE TABLE {0}_DBSCAN_centroidi (id varchar, geom geometry)\"\"\".format(TABLE))\n",
    "    connection.commit()\n",
    "\n",
    "    for clus_id in data:\n",
    "        if clus_id[0] > 0:\n",
    "            cursor.execute(\"select distinct id from {}_final_points where clus_index_tempo = {}\".format(TABLE,clus_id[0] ))\n",
    "            risultati = cursor.fetchall()\n",
    "            lista_punti_cluster = [elem[0] for elem in risultati]\n",
    "            geom_centroide = calc_centroide(lista_punti_cluster, table = str(TABLE)+'_final_points')\n",
    "            cursor.execute(\"\"\"INSERT INTO {0}_DBSCAN_centroidi\n",
    "                            VALUES({1}, '{2}')\"\"\".format(TABLE, int(clus_id[0]), str(geom_centroide)))\n",
    "            connection.commit()\n",
    "    "
   ]
  },
  {
   "cell_type": "markdown",
   "metadata": {},
   "source": [
    "### Risultati di DBSCAN"
   ]
  },
  {
   "cell_type": "code",
   "execution_count": null,
   "metadata": {},
   "outputs": [],
   "source": [
    "distanze = 0\n",
    "counter_distanze = 0\n",
    "total_wp = 0\n",
    "total_fermate_dbscan = 0\n",
    "total_detected = 0\n",
    "total_far_fermate = 0\n",
    "for t in table_gpx:\n",
    "    TABLE_FERMATE_DBSCAN = t + '_dbscan_centroidi'\n",
    "    TABLE_WAYPOINTS = t + \"_waypoint\"\n",
    "    \n",
    "    cursor.execute(\"\"\"ALTER TABLE {0} DROP COLUMN IF EXISTS detected_by_dbscan;\n",
    "                     ALTER TABLE {0} ADD COLUMN detected_by_dbscan INTEGER;\n",
    "                     \n",
    "                     ALTER TABLE {1} DROP COLUMN IF EXISTS near_wp;\n",
    "                     ALTER TABLE {1} ADD COLUMN near_wp INTEGER;\"\"\".format(TABLE_WAYPOINTS, TABLE_FERMATE_DBSCAN))\n",
    "    connection.commit() #aggiungiamo una colonna detected alle tabelle di waypoint\n",
    "    \n",
    "    #Selezioniamo wp vicini a CENTROIDI \n",
    "    query = \"\"\"select wp.id as wpid, DB.id as DBid, st_distance(st_transform(wp.geom, 3857),st_transform(DB.geom, 3857))\n",
    "                from {0} as wp, {1} as DB\n",
    "                where st_distance(\n",
    "                        st_transform(wp.geom, 3857),\n",
    "                        st_transform(DB.geom, 3857)\n",
    "                ) < 30\"\"\".format(TABLE_WAYPOINTS, TABLE_FERMATE_DBSCAN)\n",
    "    cursor.execute(query)\n",
    "    wp_vicini_db = cursor.fetchall()\n",
    "    \n",
    "    \n",
    "    for row in wp_vicini_db: #Aggiorniamo la tabella di wp, indice ci dice se il punto è stato rilevato\n",
    "        cursor.execute(\"\"\" UPDATE {0} SET detected_by_dbscan = 1 WHERE {0}.id = '{1}'\"\"\".format(TABLE_WAYPOINTS, str(row[0])))\n",
    "        connection.commit()\n",
    "        cursor.execute(\"\"\" UPDATE {0} SET near_wp = 1 WHERE {0}.id = '{1}'\"\"\".format(TABLE_FERMATE_DBSCAN, row[1]))\n",
    "        connection.commit()\n",
    "        distanze += row[2]\n",
    "    counter_distanze += len(wp_vicini_db)\n",
    "    \n",
    "    cursor.execute(\"select count(detected_by_dbscan) from {}\".format(TABLE_WAYPOINTS))\n",
    "    track_det = cursor.fetchall()[0][0]\n",
    "    total_detected += track_det\n",
    "    \n",
    "    cursor.execute(\"select count(*) from {}\".format(TABLE_WAYPOINTS))\n",
    "    track_wp = cursor.fetchall()[0][0]\n",
    "    total_wp += track_wp\n",
    "    \n",
    "    cursor.execute(\"select count(*) from {}\".format(TABLE_FERMATE_DBSCAN))\n",
    "    track_fermate_dbscan = cursor.fetchall()[0][0]\n",
    "    total_fermate_dbscan += track_fermate_dbscan\n",
    "    \n",
    "    cursor.execute(\"select COUNT(*)-count(near_wp) from {}\".format(TABLE_FERMATE_DBSCAN))\n",
    "    track_far_fermata = cursor.fetchall()[0][0]\n",
    "    total_far_fermate += track_far_fermata\n",
    "    \n",
    "    print(t, \"detected_by_dbscan:\", round(track_det/track_wp, 2),\n",
    "          \"perc centroidi lontani:\",round(track_far_fermata/track_fermate_dbscan,2))\n",
    "    "
   ]
  },
  {
   "cell_type": "code",
   "execution_count": null,
   "metadata": {},
   "outputs": [],
   "source": [
    "print(\"Risultati dbscan temporale:\")\n",
    "print(\"Percentuale di WP rilevati: \", total_detected/total_wp)\n",
    "print(\"Percentuale di staypoint lontati da wp: \", total_far_fermate/total_fermate_dbscan)\n"
   ]
  },
  {
   "cell_type": "markdown",
   "metadata": {},
   "source": [
    "### Visualizzazione"
   ]
  },
  {
   "cell_type": "code",
   "execution_count": null,
   "metadata": {},
   "outputs": [],
   "source": [
    "# from mpl_toolkits import mplot3d\n",
    "# import matplotlib.pyplot as plt\n",
    "# from mpl_toolkits.mplot3d import Axes3D\n",
    "\n",
    "# def plot3D (path = PATH, tempo = False, complete = False):\n",
    "    \n",
    "#     fig = plt.figure(figsize=(26, 20)) \n",
    "#     ax = Axes3D(fig)\n",
    "#     title = 'cluster_tempo'if tempo else 'cluster'\n",
    "#     plt.title(title, size = 50, pad = 60, loc = 'right')\n",
    "#     ax.set_xlabel(\"longitude\", size=25, labelpad=30) \n",
    "#     ax.set_ylabel(\"latitude\", size=25, labelpad=30) \n",
    "#     ax.set_zlabel(\"time\", size=25, labelpad=30)\n",
    "    \n",
    "#     query = \"\"\" SELECT *, extract(epoch from time::timestamp) \n",
    "#                 FROM {}_final_points ORDER BY time\"\"\".format(TABLE)\n",
    "#     cursor.execute(query)\n",
    "#     data = cursor.fetchall()\n",
    "#     lons = [point[2] for point in data] \n",
    "#     lats = [point[1] for point in data] \n",
    "#     times = [point[-1] for point in data]\n",
    "    \n",
    "#     index = -2 if tempo else -3 \n",
    "#     clus_index = [point[index] for point in data] # -2 con tempo, -3 cluster normali\n",
    "#     ax.scatter(lons, lats, times, c = clus_index, cmap=\"plasma\", s= 95, alpha = 1)\n",
    "    \n",
    "#     if complete:\n",
    "#         title = title + 'complete' \n",
    "#         query2 = \"\"\" SELECT extract(epoch from time_inizio) as time, st_y(st_centroid(geom)) as lat,\n",
    "#                      st_x(st_centroid(geom)) as long FROM {} ORDER BY time\"\"\".format(TABLE_SP)\n",
    "#         cursor.execute(query2)\n",
    "#         data2 = cursor.fetchall()\n",
    "#         lons2 = [point[2] for point in data2] \n",
    "#         lats2 = [point[1] for point in data2] \n",
    "#         times2 = [point[0] for point in data2] \n",
    "#         ax.scatter(lons2, lats2, times2, c='black', s= 600, marker = 'X', alpha = 1) \n",
    "        \n",
    "#         query3 = \"\"\" SELECT st_y(st_centroid(geom)) as lat, st_x(st_centroid(geom)) as long, \n",
    "#                      extract(epoch from time::timestamp) as time FROM {}_waypoint\"\"\".format(TABLE)\n",
    "#         cursor.execute(query3)\n",
    "#         data3 = cursor.fetchall()\n",
    "#         lons3 = [point[1] for point in data3] \n",
    "#         lats3 = [point[0] for point in data3] \n",
    "#         times3 = [point[2] for point in data3]\n",
    "#         ax.scatter(lons3, lats3, times3, c='red', s= 600, marker = 'X', alpha = 1)\n",
    "        \n",
    "#     plt.savefig(path + TABLE + '_' + title)\n",
    "#     plt.show()\n"
   ]
  },
  {
   "cell_type": "code",
   "execution_count": null,
   "metadata": {
    "scrolled": true
   },
   "outputs": [],
   "source": [
    "# PATH = 'C:/Users/user/Desktop/ProgettoGDM/Immagini/{}/'.format(TABLE)\n",
    " \n",
    "# metri = 50\n",
    "# secondi = 180\n",
    "# for TABLE in table_gpx:\n",
    "#     TABLE_SP = TABLE + '_staypoints_{}m_{}s'.format(metri, secondi)\n",
    "#     plot3D(tempo = False)\n",
    "#     plot3D(tempo = True)\n",
    "#     plot3D(tempo = True, complete = True)"
   ]
  },
  {
   "cell_type": "markdown",
   "metadata": {},
   "source": [
    "---------------------------------------------------------------"
   ]
  },
  {
   "cell_type": "markdown",
   "metadata": {},
   "source": [
    "### Modo per leggere i file csv in modo tale che siano visibili in qgis senza problemi"
   ]
  },
  {
   "cell_type": "code",
   "execution_count": null,
   "metadata": {},
   "outputs": [],
   "source": [
    "query = \"\"\" drop table if exists stradevicine;\n",
    "            create table stradevicine (\n",
    "            id numeric, \n",
    "            geom GEOMETRY(Linestring, 4326),\n",
    "            nome varchar(100));\"\"\"\n",
    "cursor.execute(query)\n",
    "connection.commit()\n",
    "\n",
    "with open('strade.csv') as csv_file:\n",
    "    csv_reader = csv.reader(csv_file)\n",
    "    line_count = 0\n",
    "    for row in csv_reader: \n",
    "        if line_count == 0: \n",
    "            print(\"columns: \" + row[0], row[1], row[2])\n",
    "            line_count += 1\n",
    "        else:\n",
    "            if \"'\" in row[2]:\n",
    "                query = \"\"\"INSERT INTO stradevicine(id,geom,nome) \n",
    "                    VALUES({},'{}', NULL)\n",
    "                \"\"\".format(row[0], row[1])\n",
    "            else: \n",
    "                query = \"\"\"INSERT INTO stradevicine(id,geom,nome) \n",
    "                    VALUES({},'{}', '{}')\n",
    "                \"\"\".format(row[0], row[1], row[2])\n",
    "            line_count  += 1\n",
    "            cursor.execute(query)\n",
    "            connection.commit()"
   ]
  },
  {
   "cell_type": "markdown",
   "metadata": {},
   "source": [
    "### Modo per creare file csv"
   ]
  },
  {
   "cell_type": "code",
   "execution_count": null,
   "metadata": {},
   "outputs": [],
   "source": [
    "import pandas as pd"
   ]
  },
  {
   "cell_type": "code",
   "execution_count": null,
   "metadata": {},
   "outputs": [],
   "source": [
    "query = \"select * from stradevicine\"\n",
    "cursor.execute(query)\n",
    "df = pd.DataFrame(cursor.fetchall(), columns=['id', 'geom', 'name'])\n",
    "df.to_csv(\"stradevicine.csv\", index=False)"
   ]
  },
  {
   "cell_type": "code",
   "execution_count": null,
   "metadata": {},
   "outputs": [],
   "source": [
    "query = \"select * from strademilanobollate\"\n",
    "cursor.execute(query)\n",
    "df = pd.DataFrame(cursor.fetchall(), columns=['id', 'geom', 'name'])\n",
    "df.to_csv(\"strademilanobollate.csv\", index=False)"
   ]
  },
  {
   "cell_type": "markdown",
   "metadata": {},
   "source": [
    "---------------------------------------------------------------\n",
    "\n",
    "### Lettura dataset pechino"
   ]
  },
  {
   "cell_type": "code",
   "execution_count": null,
   "metadata": {},
   "outputs": [],
   "source": [
    "USER = '000'\n",
    "TABLE_GEOLIFE = 'traiettoria_pechino_' + USER"
   ]
  },
  {
   "cell_type": "code",
   "execution_count": null,
   "metadata": {},
   "outputs": [],
   "source": [
    "query = \"\"\" DROP TABLE IF EXISTS \"\"\" + TABLE_GEOLIFE + \"\"\" ;\n",
    "            CREATE TABLE \"\"\" + TABLE_GEOLIFE + \"\"\" (\n",
    "            id serial, \n",
    "            LAT numeric, \n",
    "            LON numeric, \n",
    "            geom GEOMETRY(Point, 4326),\n",
    "            time TIMESTAMP);\"\"\"\n",
    "cursor.execute(query)\n",
    "connection.commit()"
   ]
  },
  {
   "cell_type": "code",
   "execution_count": null,
   "metadata": {},
   "outputs": [],
   "source": [
    "with open('20081024041230.csv') as csv_file:\n",
    "    df = pd.read_csv(csv_file, usecols = [0, 1, 5, 6], names = ['lat', 'long', 'data', 'hour'], skiprows = 6)\n",
    "\n",
    "total_points = df.shape[0]  \n",
    "\n",
    "for i in range(total_points):\n",
    "    point = df.loc[i,:] \n",
    "    str_timestamp = point['data'] +' ' + point['hour']\n",
    "    query = \"\"\" INSERT INTO \"\"\" + TABLE_GEOLIFE + \"\"\"(id, lat, lon, geom, time)\n",
    "                VALUES({}, {}, {}, ST_GeomFromText('POINT({} {})', 4326),'{}') \n",
    "            \"\"\".format(i, point['lat'], point['long'], point['long'], point['lat'], str_timestamp)\n",
    "    \n",
    "    cursor.execute(query)\n",
    "    connection.commit()"
   ]
  },
  {
   "cell_type": "markdown",
   "metadata": {},
   "source": [
    "---------------------------------------------------------------"
   ]
  },
  {
   "cell_type": "code",
   "execution_count": null,
   "metadata": {},
   "outputs": [],
   "source": [
    "# NB: scegliere questa da eseguire per il map matching durante un'eventuale demo per l'esame! \n",
    "\n",
    "query = \"\"\"\n",
    "    drop table if exists part;\n",
    "    \n",
    "    create table part as \n",
    "    select * from track_points where id > 240 and id < 280;\n",
    "  \n",
    "    drop table if exists pt_roadsPROVA;\n",
    "    \n",
    "    create table pt_roadsPROVA as\n",
    "    select distinct on (pid)pid, Mi_id, p_geom, Mi_geom, distance\n",
    "    from\n",
    "        (select part.id as pid, part.geom as p_geom, Mi.id as Mi_id, \n",
    "         Mi.geom as Mi_geom, \n",
    "         ST_distance(\n",
    "             ST_transform(part.geom, 3857), \n",
    "             ST_transform(ST_LineInterpolatePoint(Mi.geom, ST_LineLocatePoint(Mi.geom,part.geom)),3857)) as distance\n",
    "         from part, \"LinestringRouteMilan\" as Mi) as point_road_couple\n",
    "    order by point_road_couple.pid, \n",
    "        st_distance(point_road_couple.p_geom, point_road_couple.Mi_geom);\n",
    "    \n",
    "    create table mapmatchingPROVA as \n",
    "        (select pid, ST_LineInterpolatePoint(Mi_geom, ST_LineLocatePoint(Mi_geom,p_geom)), distance \n",
    "        from pt_roads\n",
    "        )\n",
    "\"\"\""
   ]
  },
  {
   "cell_type": "code",
   "execution_count": null,
   "metadata": {},
   "outputs": [],
   "source": [
    "# WAYPOINT = punti aggiuti manualmente - aggiungere dopo e vedere se coincidono con stay point\n",
    "\n",
    "# for point in gpx.waypoints: \n",
    "#     insert_query = \"\"\"INSERT INTO \"\"\" + TABLE_GPX + \"\"\"(traccia,lat,lon,geom, time) \n",
    "#             VALUES({},{},{},ST_GeomFromText('POINT({} {})',3857),'{}', '{}');\n",
    "#             \"\"\".format(i, point.latitude, point.longitude, point.latitude, point.longitude, \n",
    "#                        (point.time).strftime(\"%Y-%m-%d %H:%M:%S\"), point.name)\n",
    "\n",
    "#     cursor.execute(insert_query)\n",
    "#     connection.commit()"
   ]
  },
  {
   "cell_type": "code",
   "execution_count": null,
   "metadata": {},
   "outputs": [],
   "source": []
  }
 ],
 "metadata": {
  "kernelspec": {
   "display_name": "Python 3",
   "language": "python",
   "name": "python3"
  },
  "language_info": {
   "codemirror_mode": {
    "name": "ipython",
    "version": 3
   },
   "file_extension": ".py",
   "mimetype": "text/x-python",
   "name": "python",
   "nbconvert_exporter": "python",
   "pygments_lexer": "ipython3",
   "version": "3.8.3"
  }
 },
 "nbformat": 4,
 "nbformat_minor": 4
}
